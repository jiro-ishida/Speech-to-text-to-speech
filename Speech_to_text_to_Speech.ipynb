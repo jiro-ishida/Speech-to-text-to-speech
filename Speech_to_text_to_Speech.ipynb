{
  "nbformat": 4,
  "nbformat_minor": 0,
  "metadata": {
    "colab": {
      "name": "Speech to text to Speech",
      "provenance": [],
      "collapsed_sections": [],
      "authorship_tag": "ABX9TyOoyhv/6fhKrJ2qpcx32RfR",
      "include_colab_link": true
    },
    "kernelspec": {
      "name": "python3",
      "display_name": "Python 3"
    }
  },
  "cells": [
    {
      "cell_type": "markdown",
      "metadata": {
        "id": "view-in-github",
        "colab_type": "text"
      },
      "source": [
        "<a href=\"https://colab.research.google.com/github/jiro-ishida/Speech-to-text-to-speech/blob/main/Speech_to_text_to_Speech.ipynb\" target=\"_parent\"><img src=\"https://colab.research.google.com/assets/colab-badge.svg\" alt=\"Open In Colab\"/></a>"
      ]
    },
    {
      "cell_type": "markdown",
      "metadata": {
        "id": "5OLglmpCgoaO"
      },
      "source": [
        "#Translating Movie Quotes\r\n",
        "\r\n",
        "This notebook converts a movie quote into text and then translates it into Japanese using deep_translator/GoogleTranslator and converts this Japanese text into speech using gTTS.\r\n",
        "\r\n",
        "This can be adjusted to convert the text to any language."
      ]
    },
    {
      "cell_type": "code",
      "metadata": {
        "colab": {
          "base_uri": "https://localhost:8080/"
        },
        "id": "80Ahc-T-ZwYY",
        "outputId": "5279370e-df55-4c5e-c4bc-199a92790078"
      },
      "source": [
        "# https://towardsdatascience.com/easy-speech-to-text-with-python-3df0d973b426\r\n",
        "# https://medium.com/analytics-vidhya/how-to-translate-text-with-python-9d203139dcf5\r\n",
        "\r\n",
        "!pip install SpeechRecognition\r\n",
        "!pip install deep-translator\r\n",
        "!pip install gTTS\r\n",
        "!apt install libasound2-dev portaudio19-dev libportaudio2 libportaudiocpp0 ffmpeg"
      ],
      "execution_count": 2,
      "outputs": [
        {
          "output_type": "stream",
          "text": [
            "Requirement already satisfied: SpeechRecognition in /usr/local/lib/python3.6/dist-packages (3.8.1)\n",
            "Requirement already satisfied: deep-translator in /usr/local/lib/python3.6/dist-packages (1.3.5)\n",
            "Requirement already satisfied: beautifulsoup4 in /usr/local/lib/python3.6/dist-packages (from deep-translator) (4.6.3)\n",
            "Requirement already satisfied: requests in /usr/local/lib/python3.6/dist-packages (from deep-translator) (2.23.0)\n",
            "Requirement already satisfied: certifi>=2017.4.17 in /usr/local/lib/python3.6/dist-packages (from requests->deep-translator) (2020.12.5)\n",
            "Requirement already satisfied: chardet<4,>=3.0.2 in /usr/local/lib/python3.6/dist-packages (from requests->deep-translator) (3.0.4)\n",
            "Requirement already satisfied: urllib3!=1.25.0,!=1.25.1,<1.26,>=1.21.1 in /usr/local/lib/python3.6/dist-packages (from requests->deep-translator) (1.24.3)\n",
            "Requirement already satisfied: idna<3,>=2.5 in /usr/local/lib/python3.6/dist-packages (from requests->deep-translator) (2.10)\n",
            "Requirement already satisfied: gTTS in /usr/local/lib/python3.6/dist-packages (2.2.2)\n",
            "Requirement already satisfied: six in /usr/local/lib/python3.6/dist-packages (from gTTS) (1.15.0)\n",
            "Requirement already satisfied: click in /usr/local/lib/python3.6/dist-packages (from gTTS) (7.1.2)\n",
            "Requirement already satisfied: requests in /usr/local/lib/python3.6/dist-packages (from gTTS) (2.23.0)\n",
            "Requirement already satisfied: idna<3,>=2.5 in /usr/local/lib/python3.6/dist-packages (from requests->gTTS) (2.10)\n",
            "Requirement already satisfied: chardet<4,>=3.0.2 in /usr/local/lib/python3.6/dist-packages (from requests->gTTS) (3.0.4)\n",
            "Requirement already satisfied: urllib3!=1.25.0,!=1.25.1,<1.26,>=1.21.1 in /usr/local/lib/python3.6/dist-packages (from requests->gTTS) (1.24.3)\n",
            "Requirement already satisfied: certifi>=2017.4.17 in /usr/local/lib/python3.6/dist-packages (from requests->gTTS) (2020.12.5)\n",
            "Reading package lists... Done\n",
            "Building dependency tree       \n",
            "Reading state information... Done\n",
            "libportaudio2 is already the newest version (19.6.0-1).\n",
            "libportaudiocpp0 is already the newest version (19.6.0-1).\n",
            "portaudio19-dev is already the newest version (19.6.0-1).\n",
            "libasound2-dev is already the newest version (1.1.3-5ubuntu0.5).\n",
            "ffmpeg is already the newest version (7:3.4.8-0ubuntu0.2).\n",
            "0 upgraded, 0 newly installed, 0 to remove and 10 not upgraded.\n"
          ],
          "name": "stdout"
        }
      ]
    },
    {
      "cell_type": "code",
      "metadata": {
        "id": "ja8ltpW4f8bW"
      },
      "source": [
        "from gtts import gTTS \r\n",
        "import os\r\n",
        "import speech_recognition as sr\r\n",
        "from deep_translator import GoogleTranslator"
      ],
      "execution_count": 3,
      "outputs": []
    },
    {
      "cell_type": "code",
      "metadata": {
        "colab": {
          "base_uri": "https://localhost:8080/"
        },
        "id": "_1HtrUKNawhc",
        "outputId": "82ac2c53-46f7-482f-bc99-6403289087f8"
      },
      "source": [
        "# Load the Drive helper and mount\r\n",
        "from google.colab import drive\r\n",
        "drive.mount('/content/drive')"
      ],
      "execution_count": 4,
      "outputs": [
        {
          "output_type": "stream",
          "text": [
            "Mounted at /content/drive\n"
          ],
          "name": "stdout"
        }
      ]
    },
    {
      "cell_type": "code",
      "metadata": {
        "id": "E6-e6c8ea5sX"
      },
      "source": [
        "path = '/content/drive/My Drive/test_audio/quote.wav'"
      ],
      "execution_count": 5,
      "outputs": []
    },
    {
      "cell_type": "code",
      "metadata": {
        "colab": {
          "base_uri": "https://localhost:8080/"
        },
        "id": "9Pl68Mi4hg_O",
        "outputId": "04467a0c-f999-44d6-9e65-9a22839467d5"
      },
      "source": [
        "# Supported Languages\r\n",
        "langs_dict = GoogleTranslator.get_supported_languages(as_dict=True)\r\n",
        "langs_dict  "
      ],
      "execution_count": 6,
      "outputs": [
        {
          "output_type": "execute_result",
          "data": {
            "text/plain": [
              "{'Filipino': 'fil',\n",
              " 'Hebrew': 'he',\n",
              " 'afrikaans': 'af',\n",
              " 'albanian': 'sq',\n",
              " 'amharic': 'am',\n",
              " 'arabic': 'ar',\n",
              " 'armenian': 'hy',\n",
              " 'azerbaijani': 'az',\n",
              " 'basque': 'eu',\n",
              " 'belarusian': 'be',\n",
              " 'bengali': 'bn',\n",
              " 'bosnian': 'bs',\n",
              " 'bulgarian': 'bg',\n",
              " 'catalan': 'ca',\n",
              " 'cebuano': 'ceb',\n",
              " 'chichewa': 'ny',\n",
              " 'chinese': 'zh',\n",
              " 'chinese (simplified)': 'zh-cn',\n",
              " 'chinese (traditional)': 'zh-tw',\n",
              " 'corsican': 'co',\n",
              " 'croatian': 'hr',\n",
              " 'czech': 'cs',\n",
              " 'danish': 'da',\n",
              " 'dutch': 'nl',\n",
              " 'english': 'en',\n",
              " 'esperanto': 'eo',\n",
              " 'estonian': 'et',\n",
              " 'filipino': 'tl',\n",
              " 'finnish': 'fi',\n",
              " 'french': 'fr',\n",
              " 'frisian': 'fy',\n",
              " 'galician': 'gl',\n",
              " 'georgian': 'ka',\n",
              " 'german': 'de',\n",
              " 'greek': 'el',\n",
              " 'gujarati': 'gu',\n",
              " 'haitian creole': 'ht',\n",
              " 'hausa': 'ha',\n",
              " 'hawaiian': 'haw',\n",
              " 'hebrew': 'iw',\n",
              " 'hindi': 'hi',\n",
              " 'hmong': 'hmn',\n",
              " 'hungarian': 'hu',\n",
              " 'icelandic': 'is',\n",
              " 'igbo': 'ig',\n",
              " 'indonesian': 'id',\n",
              " 'irish': 'ga',\n",
              " 'italian': 'it',\n",
              " 'japanese': 'ja',\n",
              " 'javanese': 'jw',\n",
              " 'kannada': 'kn',\n",
              " 'kazakh': 'kk',\n",
              " 'khmer': 'km',\n",
              " 'korean': 'ko',\n",
              " 'kurdish (kurmanji)': 'ku',\n",
              " 'kyrgyz': 'ky',\n",
              " 'lao': 'lo',\n",
              " 'latin': 'la',\n",
              " 'latvian': 'lv',\n",
              " 'lithuanian': 'lt',\n",
              " 'luxembourgish': 'lb',\n",
              " 'macedonian': 'mk',\n",
              " 'malagasy': 'mg',\n",
              " 'malay': 'ms',\n",
              " 'malayalam': 'ml',\n",
              " 'maltese': 'mt',\n",
              " 'maori': 'mi',\n",
              " 'marathi': 'mr',\n",
              " 'mongolian': 'mn',\n",
              " 'myanmar (burmese)': 'my',\n",
              " 'nepali': 'ne',\n",
              " 'norwegian': 'no',\n",
              " 'pashto': 'ps',\n",
              " 'persian': 'fa',\n",
              " 'polish': 'pl',\n",
              " 'portuguese': 'pt',\n",
              " 'punjabi': 'pa',\n",
              " 'romanian': 'ro',\n",
              " 'russian': 'ru',\n",
              " 'samoan': 'sm',\n",
              " 'scots gaelic': 'gd',\n",
              " 'serbian': 'sr',\n",
              " 'sesotho': 'st',\n",
              " 'shona': 'sn',\n",
              " 'sindhi': 'sd',\n",
              " 'sinhala': 'si',\n",
              " 'slovak': 'sk',\n",
              " 'slovenian': 'sl',\n",
              " 'somali': 'so',\n",
              " 'spanish': 'es',\n",
              " 'sundanese': 'su',\n",
              " 'swahili': 'sw',\n",
              " 'swedish': 'sv',\n",
              " 'tajik': 'tg',\n",
              " 'tamil': 'ta',\n",
              " 'telugu': 'te',\n",
              " 'thai': 'th',\n",
              " 'turkish': 'tr',\n",
              " 'ukrainian': 'uk',\n",
              " 'urdu': 'ur',\n",
              " 'uzbek': 'uz',\n",
              " 'vietnamese': 'vi',\n",
              " 'welsh': 'cy',\n",
              " 'xhosa': 'xh',\n",
              " 'yiddish': 'yi',\n",
              " 'yoruba': 'yo',\n",
              " 'zulu': 'zu'}"
            ]
          },
          "metadata": {
            "tags": []
          },
          "execution_count": 6
        }
      ]
    },
    {
      "cell_type": "code",
      "metadata": {
        "colab": {
          "base_uri": "https://localhost:8080/"
        },
        "id": "Hk0z8LK5Z5xG",
        "outputId": "da2dca97-9eff-4186-cbf3-e98ddbfac962"
      },
      "source": [
        "# Initialize recognizer class (for recognizing the speech)\r\n",
        "r = sr.Recognizer()\r\n",
        "\r\n",
        "# Reading Audio file as source\r\n",
        "# listening the audio file and store in audio_text variable\r\n",
        "\r\n",
        "with sr.AudioFile(path) as source:\r\n",
        "    \r\n",
        "    audio_text = r.listen(source)\r\n",
        "    \r\n",
        "# recoginize_() method will throw a request error if the API is unreachable, hence using exception handling\r\n",
        "    try:\r\n",
        "        \r\n",
        "        # using google speech recognition\r\n",
        "        text = r.recognize_google(audio_text)\r\n",
        "        print('Converting audio transcripts into text ...')\r\n",
        "        print(text)\r\n",
        "     \r\n",
        "    except:\r\n",
        "         print('Sorry.. run again...')"
      ],
      "execution_count": 7,
      "outputs": [
        {
          "output_type": "stream",
          "text": [
            "Converting audio transcripts into text ...\n",
            "I don't know who you are I don't know what you want if you are looking for ransom I can tell you I don't have money but what I do have are a very particular set of skills\n"
          ],
          "name": "stdout"
        }
      ]
    },
    {
      "cell_type": "code",
      "metadata": {
        "colab": {
          "base_uri": "https://localhost:8080/"
        },
        "id": "ToeGrW4FcxES",
        "outputId": "487a6909-7fc5-4653-bb4c-27c8828a3125"
      },
      "source": [
        "to_translate = text\r\n",
        "translated = GoogleTranslator(source='auto', target='ja').translate(to_translate)\r\n",
        "print(translated)"
      ],
      "execution_count": 8,
      "outputs": [
        {
          "output_type": "stream",
          "text": [
            "私はあなたが誰であるかわからないあなたが身代金を探しているならあなたが何を望んでいるのかわからない私はお金がないと言うことができますが私が持っているのは非常に特別なスキルのセットです\n"
          ],
          "name": "stdout"
        }
      ]
    },
    {
      "cell_type": "code",
      "metadata": {
        "id": "tdngLnepd1Zn"
      },
      "source": [
        "text = translated\r\n",
        "language = 'ja'\r\n",
        "speech = gTTS(text = text, lang = language, slow = False)\r\n",
        "speech.save('/content/drive/My Drive/test_audio/text.mp3')"
      ],
      "execution_count": 9,
      "outputs": []
    }
  ]
}